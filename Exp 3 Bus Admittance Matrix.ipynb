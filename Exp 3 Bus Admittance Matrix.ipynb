{
 "cells": [
  {
   "cell_type": "markdown",
   "metadata": {},
   "source": [
    "## Experiment 3"
   ]
  },
  {
   "cell_type": "markdown",
   "metadata": {},
   "source": [
    "## Formation of Bus Admittance Matrix"
   ]
  },
  {
   "cell_type": "code",
   "execution_count": 1,
   "metadata": {},
   "outputs": [],
   "source": [
    "import numpy as np"
   ]
  },
  {
   "cell_type": "markdown",
   "metadata": {},
   "source": [
    "### Input"
   ]
  },
  {
   "cell_type": "code",
   "execution_count": 2,
   "metadata": {},
   "outputs": [],
   "source": [
    "n = 4\n",
    "b = 6\n",
    "t = n - 1\n",
    "l = b - t\n",
    "twigs = np.array([['d', 'e', 'f']])\n",
    "input_data = np.array([[('a', 4, 1, 2)], [('b', 3, 4, 2)], [('c', 1, 3, 5)], [('d', 1, 2, 5)], [('e', 2, 3, 5j)], [('f', 2, 4, -4j)]], dtype = [('ed', '<U4'), ('from', 'int'), ('to', 'int'), ('z', 'complex')])\n",
    "links = []\n",
    "# creating links for co-tree\n",
    "for i in range(b):\n",
    "    curr_branch = input_data['ed'][i][0]\n",
    "    if curr_branch not in twigs:\n",
    "        links.append(curr_branch)\n",
    "links = np.array([links])"
   ]
  },
  {
   "cell_type": "code",
   "execution_count": 3,
   "metadata": {},
   "outputs": [
    {
     "data": {
      "text/plain": [
       "array([[('a', 4, 1,  2.+0.j)],\n",
       "       [('b', 3, 4,  2.+0.j)],\n",
       "       [('c', 1, 3,  5.+0.j)],\n",
       "       [('d', 1, 2,  5.+0.j)],\n",
       "       [('e', 2, 3,  0.+5.j)],\n",
       "       [('f', 2, 4, -0.-4.j)]],\n",
       "      dtype=[('ed', '<U4'), ('from', '<i4'), ('to', '<i4'), ('z', '<c16')])"
      ]
     },
     "execution_count": 3,
     "metadata": {},
     "output_type": "execute_result"
    }
   ],
   "source": [
    "input_data"
   ]
  },
  {
   "cell_type": "code",
   "execution_count": 4,
   "metadata": {},
   "outputs": [],
   "source": [
    "# converting branch names to numbers\n",
    "\n",
    "for i in range(b):\n",
    "    input_data['ed'][i][0] = (ord(input_data['ed'][i][0]) - ord('a') + 1)\n",
    "\n",
    "for i in range(t):\n",
    "    twigs[0][i]= ord(twigs[0][i]) - ord('a')\n",
    "twigs = twigs.astype('int')\n",
    "\n",
    "for i in range(l):\n",
    "    links[0][i] = ord(links[0][i]) - ord('a')\n",
    "links = links.astype('int')"
   ]
  },
  {
   "cell_type": "code",
   "execution_count": 5,
   "metadata": {},
   "outputs": [
    {
     "data": {
      "text/plain": [
       "array([[('1', 4, 1,  2.+0.j)],\n",
       "       [('2', 3, 4,  2.+0.j)],\n",
       "       [('3', 1, 3,  5.+0.j)],\n",
       "       [('4', 1, 2,  5.+0.j)],\n",
       "       [('5', 2, 3,  0.+5.j)],\n",
       "       [('6', 2, 4, -0.-4.j)]],\n",
       "      dtype=[('ed', '<U4'), ('from', '<i4'), ('to', '<i4'), ('z', '<c16')])"
      ]
     },
     "execution_count": 5,
     "metadata": {},
     "output_type": "execute_result"
    }
   ],
   "source": [
    "input_data"
   ]
  },
  {
   "cell_type": "code",
   "execution_count": 6,
   "metadata": {},
   "outputs": [
    {
     "data": {
      "text/plain": [
       "array([[0, 1, 2]])"
      ]
     },
     "execution_count": 6,
     "metadata": {},
     "output_type": "execute_result"
    }
   ],
   "source": [
    "links"
   ]
  },
  {
   "cell_type": "code",
   "execution_count": 7,
   "metadata": {},
   "outputs": [
    {
     "data": {
      "text/plain": [
       "array([[3, 4, 5]])"
      ]
     },
     "execution_count": 7,
     "metadata": {},
     "output_type": "execute_result"
    }
   ],
   "source": [
    "twigs"
   ]
  },
  {
   "cell_type": "code",
   "execution_count": 39,
   "metadata": {},
   "outputs": [],
   "source": [
    "np.set_printoptions(precision=3)  #setting printing precision"
   ]
  },
  {
   "cell_type": "markdown",
   "metadata": {},
   "source": [
    "### Forming Reduced Incidence Matrix"
   ]
  },
  {
   "cell_type": "code",
   "execution_count": 40,
   "metadata": {},
   "outputs": [],
   "source": [
    "A = np.zeros((n, b), dtype = 'int')"
   ]
  },
  {
   "cell_type": "code",
   "execution_count": 41,
   "metadata": {},
   "outputs": [],
   "source": [
    "for i in range(b):\n",
    "    curr_branch = int(input_data['ed'][i][0]) - 1\n",
    "    from_node = input_data['from'][i][0] - 1\n",
    "    to_node = input_data['to'][i][0] - 1\n",
    "    \n",
    "    A[from_node][curr_branch] = 1    #leaving a node => +1\n",
    "    A[to_node][curr_branch] = -1     #Entering a node => -1"
   ]
  },
  {
   "cell_type": "code",
   "execution_count": 42,
   "metadata": {},
   "outputs": [
    {
     "data": {
      "text/plain": [
       "array([[-1,  0,  1,  1,  0,  0],\n",
       "       [ 0,  0,  0, -1,  1,  1],\n",
       "       [ 0,  1, -1,  0, -1,  0],\n",
       "       [ 1, -1,  0,  0,  0, -1]])"
      ]
     },
     "execution_count": 42,
     "metadata": {},
     "output_type": "execute_result"
    }
   ],
   "source": [
    "A"
   ]
  },
  {
   "cell_type": "code",
   "execution_count": 43,
   "metadata": {},
   "outputs": [],
   "source": [
    "ref_node = 4"
   ]
  },
  {
   "cell_type": "code",
   "execution_count": 44,
   "metadata": {},
   "outputs": [],
   "source": [
    "A = np.delete(A, ref_node - 1, axis = 0)"
   ]
  },
  {
   "cell_type": "code",
   "execution_count": 45,
   "metadata": {},
   "outputs": [],
   "source": [
    "Al = np.zeros((n -1, l), dtype = 'int')\n",
    "Ab = np.zeros((n -1, t), dtype = 'int')\n",
    "\n",
    "for i in range(l):\n",
    "    Al[:, i] = A[:, links[0][i]]   # picking those branches which are part of links\n",
    "\n",
    "for i in range(t):\n",
    "    Ab[:, i] = A[:, twigs[0][i]]  # picking those branches which are twigs for the tree"
   ]
  },
  {
   "cell_type": "code",
   "execution_count": 46,
   "metadata": {},
   "outputs": [
    {
     "data": {
      "text/plain": [
       "array([[-1,  0,  1],\n",
       "       [ 0,  0,  0],\n",
       "       [ 0,  1, -1]])"
      ]
     },
     "execution_count": 46,
     "metadata": {},
     "output_type": "execute_result"
    }
   ],
   "source": [
    "Al"
   ]
  },
  {
   "cell_type": "code",
   "execution_count": 47,
   "metadata": {},
   "outputs": [
    {
     "data": {
      "text/plain": [
       "array([[ 1,  0,  0],\n",
       "       [-1,  1,  1],\n",
       "       [ 0, -1,  0]])"
      ]
     },
     "execution_count": 47,
     "metadata": {},
     "output_type": "execute_result"
    }
   ],
   "source": [
    "Ab"
   ]
  },
  {
   "cell_type": "markdown",
   "metadata": {},
   "source": [
    "## Output"
   ]
  },
  {
   "cell_type": "markdown",
   "metadata": {},
   "source": [
    "### Creating Cut-Set Matrix"
   ]
  },
  {
   "cell_type": "code",
   "execution_count": 48,
   "metadata": {},
   "outputs": [],
   "source": [
    "Cb = np.dot(np.linalg.inv(Ab), Al).astype('int')"
   ]
  },
  {
   "cell_type": "code",
   "execution_count": 49,
   "metadata": {},
   "outputs": [],
   "source": [
    "Ub = np.eye(t, dtype = 'int')"
   ]
  },
  {
   "cell_type": "code",
   "execution_count": 50,
   "metadata": {},
   "outputs": [],
   "source": [
    "C = np.concatenate((Cb, Ub), axis = 1)"
   ]
  },
  {
   "cell_type": "code",
   "execution_count": 51,
   "metadata": {},
   "outputs": [
    {
     "data": {
      "text/plain": [
       "array([[-1,  0,  1,  1,  0,  0],\n",
       "       [ 0, -1,  1,  0,  1,  0],\n",
       "       [-1,  1,  0,  0,  0,  1]])"
      ]
     },
     "execution_count": 51,
     "metadata": {},
     "output_type": "execute_result"
    }
   ],
   "source": [
    "C"
   ]
  },
  {
   "cell_type": "markdown",
   "metadata": {},
   "source": [
    "### Creating Loop Matrix"
   ]
  },
  {
   "cell_type": "code",
   "execution_count": 52,
   "metadata": {},
   "outputs": [],
   "source": [
    "Ul = np.eye(l, dtype = 'int')"
   ]
  },
  {
   "cell_type": "code",
   "execution_count": 53,
   "metadata": {},
   "outputs": [],
   "source": [
    "Bl = -1*(Cb.T)"
   ]
  },
  {
   "cell_type": "code",
   "execution_count": 54,
   "metadata": {},
   "outputs": [],
   "source": [
    "Bl = Bl.astype('int')"
   ]
  },
  {
   "cell_type": "code",
   "execution_count": 55,
   "metadata": {},
   "outputs": [
    {
     "data": {
      "text/plain": [
       "array([[ 1,  0,  1],\n",
       "       [ 0,  1, -1],\n",
       "       [-1, -1,  0]])"
      ]
     },
     "execution_count": 55,
     "metadata": {},
     "output_type": "execute_result"
    }
   ],
   "source": [
    "Bl"
   ]
  },
  {
   "cell_type": "code",
   "execution_count": 56,
   "metadata": {},
   "outputs": [],
   "source": [
    "B = np.concatenate((Ul, Bl) , axis = 1)"
   ]
  },
  {
   "cell_type": "code",
   "execution_count": 57,
   "metadata": {},
   "outputs": [
    {
     "data": {
      "text/plain": [
       "array([[ 1,  0,  0,  1,  0,  1],\n",
       "       [ 0,  1,  0,  0,  1, -1],\n",
       "       [ 0,  0,  1, -1, -1,  0]])"
      ]
     },
     "execution_count": 57,
     "metadata": {},
     "output_type": "execute_result"
    }
   ],
   "source": [
    "B"
   ]
  },
  {
   "cell_type": "markdown",
   "metadata": {},
   "source": [
    "### Creating Z and Y Matrix"
   ]
  },
  {
   "cell_type": "code",
   "execution_count": 58,
   "metadata": {},
   "outputs": [],
   "source": [
    "zd = [i[0] for i in input_data['z']]"
   ]
  },
  {
   "cell_type": "code",
   "execution_count": 59,
   "metadata": {},
   "outputs": [
    {
     "data": {
      "text/plain": [
       "[(2+0j), (2+0j), (5+0j), (5+0j), 5j, (-0-4j)]"
      ]
     },
     "execution_count": 59,
     "metadata": {},
     "output_type": "execute_result"
    }
   ],
   "source": [
    "zd"
   ]
  },
  {
   "cell_type": "code",
   "execution_count": 60,
   "metadata": {},
   "outputs": [
    {
     "data": {
      "text/plain": [
       "array([[ 2.+0.j,  0.+0.j,  0.+0.j,  0.+0.j,  0.+0.j,  0.+0.j],\n",
       "       [ 0.+0.j,  2.+0.j,  0.+0.j,  0.+0.j,  0.+0.j,  0.+0.j],\n",
       "       [ 0.+0.j,  0.+0.j,  5.+0.j,  0.+0.j,  0.+0.j,  0.+0.j],\n",
       "       [ 0.+0.j,  0.+0.j,  0.+0.j,  5.+0.j,  0.+0.j,  0.+0.j],\n",
       "       [ 0.+0.j,  0.+0.j,  0.+0.j,  0.+0.j,  0.+5.j,  0.+0.j],\n",
       "       [ 0.+0.j,  0.+0.j,  0.+0.j,  0.+0.j,  0.+0.j, -0.-4.j]])"
      ]
     },
     "execution_count": 60,
     "metadata": {},
     "output_type": "execute_result"
    }
   ],
   "source": [
    "Z = np.diag(zd)\n",
    "Z"
   ]
  },
  {
   "cell_type": "code",
   "execution_count": 61,
   "metadata": {},
   "outputs": [
    {
     "data": {
      "text/plain": [
       "array([[0.5-0.j  , 0. -0.j  , 0. -0.j  , 0. -0.j  , 0. -0.j  , 0. -0.j  ],\n",
       "       [0. -0.j  , 0.5-0.j  , 0. -0.j  , 0. -0.j  , 0. -0.j  , 0. -0.j  ],\n",
       "       [0. -0.j  , 0. -0.j  , 0.2-0.j  , 0. -0.j  , 0. -0.j  , 0. -0.j  ],\n",
       "       [0. -0.j  , 0. -0.j  , 0. -0.j  , 0.2-0.j  , 0. -0.j  , 0. -0.j  ],\n",
       "       [0. +0.j  , 0. +0.j  , 0. +0.j  , 0. +0.j  , 0. -0.2j , 0. +0.j  ],\n",
       "       [0. +0.j  , 0. +0.j  , 0. +0.j  , 0. +0.j  , 0. +0.j  , 0. +0.25j]])"
      ]
     },
     "execution_count": 61,
     "metadata": {},
     "output_type": "execute_result"
    }
   ],
   "source": [
    "Y = np.linalg.inv(Z)\n",
    "Y"
   ]
  },
  {
   "cell_type": "markdown",
   "metadata": {},
   "source": [
    "### Creating Ybus and Zbus Matrix"
   ]
  },
  {
   "cell_type": "code",
   "execution_count": 62,
   "metadata": {},
   "outputs": [
    {
     "data": {
      "text/plain": [
       "array([[ 0.9+0.j  , -0.2+0.j  , -0.2+0.j  ],\n",
       "       [-0.2+0.j  ,  0.2+0.05j,  0. +0.2j ],\n",
       "       [-0.2+0.j  ,  0. +0.2j ,  0.7-0.2j ]])"
      ]
     },
     "execution_count": 62,
     "metadata": {},
     "output_type": "execute_result"
    }
   ],
   "source": [
    "Ybus = np.dot(A, np.dot(Y, A.T))\n",
    "Ybus"
   ]
  },
  {
   "cell_type": "code",
   "execution_count": 63,
   "metadata": {},
   "outputs": [
    {
     "data": {
      "text/plain": [
       "array([[1.379-0.216j, 0.944-0.715j, 0.263-0.256j],\n",
       "       [0.944-0.715j, 4.128-1.868j, 0.121-1.349j],\n",
       "       [0.263-0.256j, 0.121-1.349j, 1.062+0.196j]])"
      ]
     },
     "execution_count": 63,
     "metadata": {},
     "output_type": "execute_result"
    }
   ],
   "source": [
    "Zbus = np.linalg.inv(Ybus)\n",
    "Zbus"
   ]
  },
  {
   "cell_type": "markdown",
   "metadata": {},
   "source": [
    "### Creating Zloop and Yloop Matrix"
   ]
  },
  {
   "cell_type": "code",
   "execution_count": 64,
   "metadata": {},
   "outputs": [
    {
     "data": {
      "text/plain": [
       "array([[ 7.-4.j,  0.+4.j, -5.+0.j],\n",
       "       [ 0.+4.j,  2.+1.j,  0.-5.j],\n",
       "       [-5.+0.j,  0.-5.j, 10.+5.j]])"
      ]
     },
     "execution_count": 64,
     "metadata": {},
     "output_type": "execute_result"
    }
   ],
   "source": [
    "Zloop = np.dot(B, np.dot(Z, B.T))\n",
    "Zloop"
   ]
  },
  {
   "cell_type": "code",
   "execution_count": 65,
   "metadata": {},
   "outputs": [
    {
     "data": {
      "text/plain": [
       "array([[0.155+0.054j, 0.066-0.064j, 0.112+0.004j],\n",
       "       [0.066-0.064j, 0.234-0.049j, 0.08 +0.045j],\n",
       "       [0.112+0.004j, 0.08 +0.045j, 0.123-0.02j ]])"
      ]
     },
     "execution_count": 65,
     "metadata": {},
     "output_type": "execute_result"
    }
   ],
   "source": [
    "Yloop = np.linalg.inv(Zloop)\n",
    "Yloop"
   ]
  },
  {
   "cell_type": "markdown",
   "metadata": {},
   "source": [
    "### Creating Ybr and Zbr Matrix"
   ]
  },
  {
   "cell_type": "code",
   "execution_count": 66,
   "metadata": {},
   "outputs": [
    {
     "data": {
      "text/plain": [
       "array([[ 0.9+0.j  ,  0.2+0.j  ,  0.5+0.j  ],\n",
       "       [ 0.2+0.j  ,  0.7-0.2j , -0.5+0.j  ],\n",
       "       [ 0.5+0.j  , -0.5+0.j  ,  1. +0.25j]])"
      ]
     },
     "execution_count": 66,
     "metadata": {},
     "output_type": "execute_result"
    }
   ],
   "source": [
    "Ybr = np.dot(C, np.dot(Y, C.T))\n",
    "Ybr"
   ]
  },
  {
   "cell_type": "code",
   "execution_count": 67,
   "metadata": {},
   "outputs": [
    {
     "data": {
      "text/plain": [
       "array([[ 3.619-0.654j, -3.325+0.061j, -3.184+1.153j],\n",
       "       [-3.325+0.061j,  4.948+1.025j,  4.007-0.519j],\n",
       "       [-3.184+1.153j,  4.007-0.519j,  4.128-1.868j]])"
      ]
     },
     "execution_count": 67,
     "metadata": {},
     "output_type": "execute_result"
    }
   ],
   "source": [
    "Zbr = np.linalg.inv(Ybr)\n",
    "Zbr"
   ]
  },
  {
   "cell_type": "code",
   "execution_count": null,
   "metadata": {},
   "outputs": [],
   "source": []
  }
 ],
 "metadata": {
  "kernelspec": {
   "display_name": "Python 3",
   "language": "python",
   "name": "python3"
  },
  "language_info": {
   "codemirror_mode": {
    "name": "ipython",
    "version": 3
   },
   "file_extension": ".py",
   "mimetype": "text/x-python",
   "name": "python",
   "nbconvert_exporter": "python",
   "pygments_lexer": "ipython3",
   "version": "3.7.8"
  }
 },
 "nbformat": 4,
 "nbformat_minor": 4
}
